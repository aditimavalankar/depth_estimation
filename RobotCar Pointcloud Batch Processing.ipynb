{
 "cells": [
  {
   "cell_type": "code",
   "execution_count": 1,
   "metadata": {},
   "outputs": [],
   "source": [
    "import re\n",
    "import os\n",
    "import numpy as np\n",
    "import scipy.interpolate as interp\n",
    "from scipy.ndimage import map_coordinates\n",
    "\n",
    "from robotcar.python.camera_model import CameraModel\n",
    "from robotcar.python.transform import build_se3_transform\n",
    "from robotcar.python.image import load_image\n",
    "from robotcar.python.interpolate_poses import interpolate_vo_poses, interpolate_ins_poses\n",
    "\n",
    "from PIL import Image\n",
    "\n",
    "import matplotlib.pyplot as plt\n",
    "\n",
    "import cv2"
   ]
  },
  {
   "cell_type": "markdown",
   "metadata": {},
   "source": [
    "### Directories"
   ]
  },
  {
   "cell_type": "code",
   "execution_count": 2,
   "metadata": {},
   "outputs": [],
   "source": [
    "image_dir = 'data/robotcar/sample/stereo/left/'\n",
    "extrinsics_dir = 'robotcar/extrinsics/'\n",
    "models_dir = 'robotcar/models/'\n",
    "lidar_dir = 'data/robotcar/sample/ldmrs/'\n",
    "\n",
    "vo_poses_file = ''\n",
    "ins_poses_file = 'data/robotcar/sample/gps/ins.csv'"
   ]
  },
  {
   "cell_type": "markdown",
   "metadata": {},
   "source": [
    "#### Which image(s)"
   ]
  },
  {
   "cell_type": "code",
   "execution_count": 3,
   "metadata": {},
   "outputs": [],
   "source": [
    "img_index = 10"
   ]
  },
  {
   "cell_type": "markdown",
   "metadata": {},
   "source": [
    "### Camera Extrinsics"
   ]
  },
  {
   "cell_type": "code",
   "execution_count": 4,
   "metadata": {},
   "outputs": [],
   "source": [
    "model = CameraModel(models_dir, image_dir)\n",
    "\n",
    "extrinsics_path = os.path.join(extrinsics_dir, model.camera + '.txt')\n",
    "with open(extrinsics_path) as extrinsics_file:\n",
    "    extrinsics = [float(x) for x in next(extrinsics_file).split(' ')]\n",
    "\n",
    "G_camera_vehicle = build_se3_transform(extrinsics)"
   ]
  },
  {
   "cell_type": "markdown",
   "metadata": {},
   "source": [
    "### Build Pointclouds for VO and INS"
   ]
  },
  {
   "cell_type": "code",
   "execution_count": 5,
   "metadata": {},
   "outputs": [],
   "source": [
    "# Timestamps for Pointcloud Generation\n",
    "start_time = 1418381798113072\n",
    "end_time = 1418381817070979"
   ]
  },
  {
   "cell_type": "code",
   "execution_count": 6,
   "metadata": {},
   "outputs": [],
   "source": [
    "lidar = re.search('(lms_front|lms_rear|ldmrs)', lidar_dir).group(0)\n",
    "timestamps_path = os.path.join(lidar_dir, os.pardir, lidar + '.timestamps')\n",
    "\n",
    "timestamps = []\n",
    "with open(timestamps_path) as timestamps_file:\n",
    "    for line in timestamps_file:\n",
    "        timestamp = int(line.split(' ')[0])\n",
    "        if start_time <= timestamp <= end_time:\n",
    "            timestamps.append(timestamp)\n",
    "\n",
    "if len(timestamps) == 0:\n",
    "    raise ValueError(\"No LIDAR data in the given time bracket.\")\n"
   ]
  },
  {
   "cell_type": "markdown",
   "metadata": {},
   "source": [
    "### Process Image(s)"
   ]
  },
  {
   "cell_type": "code",
   "execution_count": 7,
   "metadata": {},
   "outputs": [],
   "source": [
    "timestamps_path = os.path.join(image_dir, os.pardir, model.camera + '.timestamps')\n",
    "if not os.path.isfile(timestamps_path):\n",
    "    timestamps_path = os.path.join(image_dir, os.pardir, os.pardir, model.camera + '.timestamps')\n",
    "\n",
    "with open(timestamps_path) as timestamps_file:\n",
    "    for i, line in enumerate(timestamps_file):\n",
    "        if i == img_index:\n",
    "            timestamp_img = int(line.split(' ')[0])\n",
    "            \n",
    "image_path = os.path.join(image_dir, str(timestamp_img) + '.png')\n",
    "image = load_image(image_path, model)"
   ]
  },
  {
   "cell_type": "markdown",
   "metadata": {},
   "source": [
    "#### VO Pointcloud"
   ]
  },
  {
   "cell_type": "code",
   "execution_count": 8,
   "metadata": {},
   "outputs": [
    {
     "ename": "IOError",
     "evalue": "[Errno 2] No such file or directory: ''",
     "output_type": "error",
     "traceback": [
      "\u001b[0;31m---------------------------------------------------------------------------\u001b[0m",
      "\u001b[0;31mIOError\u001b[0m                                   Traceback (most recent call last)",
      "\u001b[0;32m<ipython-input-8-f4534357b8be>\u001b[0m in \u001b[0;36m<module>\u001b[0;34m()\u001b[0m\n\u001b[1;32m      4\u001b[0m \u001b[0mG_posesource_laser\u001b[0m \u001b[0;34m=\u001b[0m \u001b[0mbuild_se3_transform\u001b[0m\u001b[0;34m(\u001b[0m\u001b[0;34m[\u001b[0m\u001b[0mfloat\u001b[0m\u001b[0;34m(\u001b[0m\u001b[0mx\u001b[0m\u001b[0;34m)\u001b[0m \u001b[0;32mfor\u001b[0m \u001b[0mx\u001b[0m \u001b[0;32min\u001b[0m \u001b[0mextrinsics\u001b[0m\u001b[0;34m.\u001b[0m\u001b[0msplit\u001b[0m\u001b[0;34m(\u001b[0m\u001b[0;34m' '\u001b[0m\u001b[0;34m)\u001b[0m\u001b[0;34m]\u001b[0m\u001b[0;34m)\u001b[0m\u001b[0;34m\u001b[0m\u001b[0m\n\u001b[1;32m      5\u001b[0m \u001b[0;34m\u001b[0m\u001b[0m\n\u001b[0;32m----> 6\u001b[0;31m \u001b[0mposes\u001b[0m \u001b[0;34m=\u001b[0m \u001b[0minterpolate_vo_poses\u001b[0m\u001b[0;34m(\u001b[0m\u001b[0mvo_poses_file\u001b[0m\u001b[0;34m,\u001b[0m \u001b[0mtimestamps\u001b[0m\u001b[0;34m,\u001b[0m \u001b[0mtimestamp_img\u001b[0m\u001b[0;34m)\u001b[0m\u001b[0;34m\u001b[0m\u001b[0m\n\u001b[0m\u001b[1;32m      7\u001b[0m \u001b[0;34m\u001b[0m\u001b[0m\n\u001b[1;32m      8\u001b[0m \u001b[0mpointcloud_vo\u001b[0m \u001b[0;34m=\u001b[0m \u001b[0mnp\u001b[0m\u001b[0;34m.\u001b[0m\u001b[0marray\u001b[0m\u001b[0;34m(\u001b[0m\u001b[0;34m[\u001b[0m\u001b[0;34m[\u001b[0m\u001b[0;36m0\u001b[0m\u001b[0;34m]\u001b[0m\u001b[0;34m,\u001b[0m \u001b[0;34m[\u001b[0m\u001b[0;36m0\u001b[0m\u001b[0;34m]\u001b[0m\u001b[0;34m,\u001b[0m \u001b[0;34m[\u001b[0m\u001b[0;36m0\u001b[0m\u001b[0;34m]\u001b[0m\u001b[0;34m,\u001b[0m \u001b[0;34m[\u001b[0m\u001b[0;36m0\u001b[0m\u001b[0;34m]\u001b[0m\u001b[0;34m]\u001b[0m\u001b[0;34m)\u001b[0m\u001b[0;34m\u001b[0m\u001b[0m\n",
      "\u001b[0;32m/home/parallels/cse291/depth_estimation/robotcar/python/interpolate_poses.pyc\u001b[0m in \u001b[0;36minterpolate_vo_poses\u001b[0;34m(vo_path, pose_timestamps, origin_timestamp)\u001b[0m\n\u001b[1;32m     32\u001b[0m \u001b[0;34m\u001b[0m\u001b[0m\n\u001b[1;32m     33\u001b[0m     \"\"\"\n\u001b[0;32m---> 34\u001b[0;31m     \u001b[0;32mwith\u001b[0m \u001b[0mopen\u001b[0m\u001b[0;34m(\u001b[0m\u001b[0mvo_path\u001b[0m\u001b[0;34m)\u001b[0m \u001b[0;32mas\u001b[0m \u001b[0mvo_file\u001b[0m\u001b[0;34m:\u001b[0m\u001b[0;34m\u001b[0m\u001b[0m\n\u001b[0m\u001b[1;32m     35\u001b[0m         \u001b[0mvo_reader\u001b[0m \u001b[0;34m=\u001b[0m \u001b[0mcsv\u001b[0m\u001b[0;34m.\u001b[0m\u001b[0mreader\u001b[0m\u001b[0;34m(\u001b[0m\u001b[0mvo_file\u001b[0m\u001b[0;34m)\u001b[0m\u001b[0;34m\u001b[0m\u001b[0m\n\u001b[1;32m     36\u001b[0m         \u001b[0mheaders\u001b[0m \u001b[0;34m=\u001b[0m \u001b[0mnext\u001b[0m\u001b[0;34m(\u001b[0m\u001b[0mvo_file\u001b[0m\u001b[0;34m)\u001b[0m\u001b[0;34m\u001b[0m\u001b[0m\n",
      "\u001b[0;31mIOError\u001b[0m: [Errno 2] No such file or directory: ''"
     ]
    }
   ],
   "source": [
    "# sensor is VO, which is located at the main vehicle frame\n",
    "with open(os.path.join(extrinsics_dir, lidar + '.txt')) as extrinsics_file:\n",
    "    extrinsics = next(extrinsics_file)\n",
    "G_posesource_laser = build_se3_transform([float(x) for x in extrinsics.split(' ')])\n",
    "\n",
    "poses = interpolate_vo_poses(vo_poses_file, timestamps, timestamp_img)\n",
    "\n",
    "pointcloud_vo = np.array([[0], [0], [0], [0]])\n",
    "\n",
    "for i in range(0, len(poses)):\n",
    "    scan_path = os.path.join(lidar_dir, str(timestamps[i]) + '.bin')\n",
    "    if not os.path.isfile(scan_path):\n",
    "        continue\n",
    "\n",
    "    scan_file = open(scan_path)\n",
    "    scan = np.fromfile(scan_file, np.double)\n",
    "    scan_file.close()\n",
    "    scan = scan.reshape((len(scan) // 3, 3)).transpose()\n",
    "    scan = np.dot(np.dot(poses[i], G_posesource_laser), np.vstack([scan, np.ones((1, scan.shape[1]))]))\n",
    "    pointcloud_vo = np.hstack([pointcloud_vo, scan])\n",
    "\n",
    "pointcloud_vo = pointcloud_vo[:, 1:]\n",
    "pointcloud_vo = np.dot(G_camera_vehicle, pointcloud_vo)"
   ]
  },
  {
   "cell_type": "markdown",
   "metadata": {},
   "source": [
    "#### GPS INS Pointcloud"
   ]
  },
  {
   "cell_type": "code",
   "execution_count": null,
   "metadata": {},
   "outputs": [],
   "source": [
    "with open(os.path.join(extrinsics_dir, 'ins.txt')) as extrinsics_file:\n",
    "    extrinsics = next(extrinsics_file)\n",
    "    G_posesource_laser = np.linalg.solve(build_se3_transform([float(x) for x in extrinsics.split(' ')]),\n",
    "                                         G_posesource_laser)\n",
    "    G_camera_posesource = G_camera_vehicle * build_se3_transform([float(x) for x in extrinsics.split(' ')])\n",
    "    \n",
    "poses = interpolate_ins_poses(ins_poses_file, timestamps, timestamp_img)\n",
    "\n",
    "pointcloud_ins = np.array([[0], [0], [0], [0]])\n",
    "\n",
    "for i in range(0, len(poses)):\n",
    "    scan_path = os.path.join(lidar_dir, str(timestamps[i]) + '.bin')\n",
    "    if not os.path.isfile(scan_path):\n",
    "        continue\n",
    "\n",
    "    scan_file = open(scan_path)\n",
    "    scan = np.fromfile(scan_file, np.double)\n",
    "    scan_file.close()\n",
    "    scan = scan.reshape((len(scan) // 3, 3)).transpose()\n",
    "    scan = np.dot(np.dot(poses[i], G_posesource_laser), np.vstack([scan, np.ones((1, scan.shape[1]))]))\n",
    "    pointcloud_ins = np.hstack([pointcloud_ins, scan])\n",
    "\n",
    "pointcloud_ins = pointcloud_ins[:, 1:]\n",
    "pointcloud_ins = np.dot(G_camera_posesource, pointcloud_ins)"
   ]
  },
  {
   "cell_type": "markdown",
   "metadata": {},
   "source": [
    "#### Sparse Local Pointcloud"
   ]
  },
  {
   "cell_type": "code",
   "execution_count": null,
   "metadata": {},
   "outputs": [],
   "source": [
    "lidar = re.search('(lms_front|lms_rear|ldmrs)', lidar_dir).group(0)\n",
    "timestamps_path = os.path.join(lidar_dir, os.pardir, lidar + '.timestamps')\n",
    "\n",
    "#timestamps = []\n",
    "with open(timestamps_path) as timestamps_file:\n",
    "    for line in timestamps_file:\n",
    "        this_timestamp = int(line.split(' ')[0])\n",
    "        if this_timestamp >= timestamp_img:\n",
    "            timestamp_lidar = this_timestamp\n",
    "            break\n",
    "\n",
    "            \n",
    "            \n",
    "with open(os.path.join(extrinsics_dir, lidar + '.txt')) as extrinsics_file:\n",
    "    extrinsics = next(extrinsics_file)\n",
    "G_posesource_laser = build_se3_transform([float(x) for x in extrinsics.split(' ')])\n",
    "\n",
    "local_pointcloud = np.array([[0], [0], [0], [0]])\n",
    "\n",
    "scan_path = os.path.join(lidar_dir, str(timestamp_lidar) + '.bin')\n",
    "\n",
    "scan_file = open(scan_path)\n",
    "scan = np.fromfile(scan_file, np.double)\n",
    "scan_file.close()\n",
    "\n",
    "scan = scan.reshape((len(scan) // 3, 3)).transpose()\n",
    "\n",
    "scan = np.dot(G_posesource_laser, np.vstack([scan, np.ones((1, scan.shape[1]))]))\n",
    "local_pointcloud = np.hstack([local_pointcloud, scan])\n",
    "\n",
    "local_pointcloud = local_pointcloud[:, 1:]\n",
    "local_pointcloud = np.dot(G_camera_vehicle, local_pointcloud)"
   ]
  },
  {
   "cell_type": "code",
   "execution_count": null,
   "metadata": {},
   "outputs": [],
   "source": []
  },
  {
   "cell_type": "code",
   "execution_count": null,
   "metadata": {},
   "outputs": [],
   "source": []
  },
  {
   "cell_type": "code",
   "execution_count": null,
   "metadata": {},
   "outputs": [],
   "source": [
    "uv, depth = model.project(local_pointcloud, image.shape)\n",
    "plt.figure(figsize=(10,10))\n",
    "plt.imshow(image)\n",
    "plt.hold(True)\n",
    "plt.scatter(np.ravel(uv[0, :]), np.ravel(uv[1, :]), s=20, c=depth, edgecolors='none', cmap='jet')\n",
    "plt.xlim(0, image.shape[1])\n",
    "plt.ylim(image.shape[0], 0)\n",
    "plt.xticks([])\n",
    "plt.yticks([])\n",
    "plt.savefig('projected.png')\n",
    "plt.show()\n",
    "\n"
   ]
  },
  {
   "cell_type": "code",
   "execution_count": null,
   "metadata": {},
   "outputs": [],
   "source": []
  },
  {
   "cell_type": "code",
   "execution_count": null,
   "metadata": {},
   "outputs": [],
   "source": []
  },
  {
   "cell_type": "code",
   "execution_count": null,
   "metadata": {},
   "outputs": [],
   "source": []
  },
  {
   "cell_type": "code",
   "execution_count": null,
   "metadata": {},
   "outputs": [],
   "source": []
  },
  {
   "cell_type": "code",
   "execution_count": null,
   "metadata": {},
   "outputs": [],
   "source": [
    "img = load_image(image_path)\n",
    "img = Image.fromarray(img)\n",
    "img.save(\"test_images/test.png\")"
   ]
  },
  {
   "cell_type": "code",
   "execution_count": null,
   "metadata": {},
   "outputs": [],
   "source": [
    "!python monodepth/monodepth_simple.py --image_path test_images/test.png --checkpoint_path monodepth/model_kitti/model_kitti.ckpt"
   ]
  },
  {
   "cell_type": "code",
   "execution_count": null,
   "metadata": {},
   "outputs": [],
   "source": [
    "def compute_errors(gt_depths, pred_depths):\n",
    "    gt = []\n",
    "    pred = []\n",
    "    for t in gt_depths:\n",
    "        gt.append(t[2])\n",
    "        pred.append(pred_depths[int(t[1])-1][int(t[0])-1])\n",
    "    gt = np.array(gt)\n",
    "    pred = np.array(pred)\n",
    "    #thresh = np.maximum((gt / pred), (pred / gt))\n",
    "    #a1 = (thresh < 1.25   ).mean()\n",
    "    #a2 = (thresh < 1.25 ** 2).mean()\n",
    "    #a3 = (thresh < 1.25 ** 3).mean()\n",
    "\n",
    "    rmse = (gt - pred) ** 2\n",
    "    rmse = np.sqrt(rmse.mean())\n",
    "\n",
    "    rmse_log = (np.log(gt) - np.log(pred)) ** 2\n",
    "    rmse_log = np.sqrt(rmse_log.mean())\n",
    "\n",
    "    abs_rel = np.mean(np.abs(gt - pred) / gt)\n",
    "\n",
    "    sq_rel = np.mean(((gt - pred)**2) / gt)\n",
    "\n",
    "    return abs_rel, sq_rel, rmse, rmse_log"
   ]
  },
  {
   "cell_type": "code",
   "execution_count": null,
   "metadata": {},
   "outputs": [],
   "source": [
    "pred_disparities = np.load('test_images/test_disp.npy')"
   ]
  },
  {
   "cell_type": "code",
   "execution_count": null,
   "metadata": {},
   "outputs": [],
   "source": [
    "def convert_disps_to_depths(pred_disp, height, width):\n",
    "\n",
    "    pred_disp = width * cv2.resize(pred_disp, (width, height), interpolation=cv2.INTER_LINEAR)\n",
    "\n",
    "    pred_depths = 983.044006 * 0.24 / pred_disp\n",
    "    \n",
    "    return pred_depths"
   ]
  },
  {
   "cell_type": "code",
   "execution_count": null,
   "metadata": {},
   "outputs": [],
   "source": [
    "pred_depth = convert_disps_to_depths(pred_disparities, 960, 1280)"
   ]
  },
  {
   "cell_type": "code",
   "execution_count": null,
   "metadata": {},
   "outputs": [],
   "source": [
    "gt_depth = np.asarray(np.vstack((uv, depth)).transpose())"
   ]
  },
  {
   "cell_type": "code",
   "execution_count": null,
   "metadata": {},
   "outputs": [],
   "source": [
    "compute_errors(gt_depth, pred_depth)"
   ]
  },
  {
   "cell_type": "code",
   "execution_count": null,
   "metadata": {},
   "outputs": [],
   "source": []
  },
  {
   "cell_type": "code",
   "execution_count": null,
   "metadata": {},
   "outputs": [],
   "source": []
  }
 ],
 "metadata": {
  "kernelspec": {
   "display_name": "Python 2",
   "language": "python",
   "name": "python2"
  },
  "language_info": {
   "codemirror_mode": {
    "name": "ipython",
    "version": 2
   },
   "file_extension": ".py",
   "mimetype": "text/x-python",
   "name": "python",
   "nbconvert_exporter": "python",
   "pygments_lexer": "ipython2",
   "version": "2.7.12"
  }
 },
 "nbformat": 4,
 "nbformat_minor": 2
}

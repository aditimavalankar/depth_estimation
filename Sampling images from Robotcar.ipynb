{
 "cells": [
  {
   "cell_type": "markdown",
   "metadata": {},
   "source": [
    "This code samples images from the Robotcar dataset and stores their file names in a file. These images will then be used to fine-tune the network trained on KITTI dataset."
   ]
  },
  {
   "cell_type": "code",
   "execution_count": 1,
   "metadata": {},
   "outputs": [],
   "source": [
    "import os\n",
    "from robotcar.python.image import load_image\n",
    "from robotcar.python.camera_model import CameraModel\n",
    "from PIL import Image"
   ]
  },
  {
   "cell_type": "code",
   "execution_count": 2,
   "metadata": {},
   "outputs": [],
   "source": [
    "source_folder_left = '../Robotcar/sample_small/stereo/left/'\n",
    "source_folder_right = '../Robotcar/sample_small/stereo/right/'\n",
    "fine_tuning_files = open('fine_tuning_files.txt', 'w')"
   ]
  },
  {
   "cell_type": "code",
   "execution_count": 3,
   "metadata": {},
   "outputs": [],
   "source": [
    "file_names = os.listdir(source_folder_left)\n",
    "file_names.sort(key = lambda x: long(x.split('.')[0]))"
   ]
  },
  {
   "cell_type": "code",
   "execution_count": null,
   "metadata": {},
   "outputs": [],
   "source": []
  },
  {
   "cell_type": "markdown",
   "metadata": {},
   "source": [
    "The following code undistorts these selected images and stores them in a destination folder."
   ]
  },
  {
   "cell_type": "code",
   "execution_count": 4,
   "metadata": {},
   "outputs": [],
   "source": [
    "destination_folder_left = 'undistorted_left/'\n",
    "destination_folder_right = 'undistorted_right/'\n",
    "model_folder = 'robotcar/models/'\n",
    "model_left = CameraModel(model_folder, source_folder_left)\n",
    "model_right = CameraModel(model_folder, source_folder_right)"
   ]
  },
  {
   "cell_type": "code",
   "execution_count": 5,
   "metadata": {},
   "outputs": [],
   "source": [
    "for i in xrange(0, len(file_names), 10):\n",
    "    img = load_image(source_folder_left + file_names[i], model_left)\n",
    "    img = Image.fromarray(img)\n",
    "    img.save(destination_folder_left + file_names[i])\n",
    "    img = load_image(source_folder_right + file_names[i], model_right)\n",
    "    img = Image.fromarray(img)\n",
    "    img.save(destination_folder_right + file_names[i])"
   ]
  },
  {
   "cell_type": "code",
   "execution_count": 6,
   "metadata": {},
   "outputs": [],
   "source": [
    "for i in xrange(0, len(file_names), 10):\n",
    "    fine_tuning_files.write('/stereo/left/' + file_names[i] + ' ' + '/stereo/right/' + file_names[i] + '\\n')\n",
    "\n",
    "fine_tuning_files.close()"
   ]
  }
 ],
 "metadata": {
  "kernelspec": {
   "display_name": "Python 2",
   "language": "python",
   "name": "python2"
  },
  "language_info": {
   "codemirror_mode": {
    "name": "ipython",
    "version": 2
   },
   "file_extension": ".py",
   "mimetype": "text/x-python",
   "name": "python",
   "nbconvert_exporter": "python",
   "pygments_lexer": "ipython2",
   "version": "2.7.14"
  }
 },
 "nbformat": 4,
 "nbformat_minor": 2
}
